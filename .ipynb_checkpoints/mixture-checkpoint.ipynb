{
 "cells": [
  {
   "cell_type": "code",
   "execution_count": 1,
   "metadata": {
    "collapsed": true
   },
   "outputs": [],
   "source": [
    "import numpy as np\n",
    "import matplotlib.pyplot as plt\n",
    "from scipy.stats import multivariate_normal\n",
    "from scipy.misc import logsumexp\n",
    "%matplotlib inline \n",
    "\n",
    "def kmeansrnd(n, d, k):\n",
    "    s = 10\n",
    "    m = np.random.randn(k, d)\n",
    "    X = np.random.randn(n, d)\n",
    "    w = np.random.dirichlet(np.ones(k), 1)\n",
    "    z = np.random.multinomial(1, w[0], n)\n",
    "    X += s * z @ m\n",
    "    return (X, np.argmax(z, 1))\n",
    "\n",
    "def plot_class(X, y):\n",
    "    color = 'brgmcyk';\n",
    "    for k in np.unique(y):\n",
    "        idx = y==k\n",
    "        plt.scatter(X[idx,0], X[idx,1],c=color[k])"
   ]
  },
  {
   "cell_type": "code",
   "execution_count": 9,
   "metadata": {
    "collapsed": false
   },
   "outputs": [],
   "source": [
    "class Gauss :\n",
    "    def __init__(self, d):\n",
    "        self.m = np.zeros(d)\n",
    "        self.C = np.eye(d)\n",
    "\n",
    "    def fit(self, X, r, a = 1e-6):\n",
    "        (n,d) = X.shape\n",
    "        nk = sum(r)\n",
    "        m = r@X/nk\n",
    "        Xo = (X-m)*np.sqrt(r).reshape(n,1)\n",
    "        C = (Xo.T @ Xo)/nk+a*np.eye(d)\n",
    "        self.m = m\n",
    "        self.C = C\n",
    "\n",
    "    def logpdf(self, X):\n",
    "        g = multivariate_normal(self.m, self.C)\n",
    "        return g.logpdf(X)\n",
    "\n",
    "def e_step(X, R, w, coms):\n",
    "    n = len(X)\n",
    "    for k in range(len(coms)):\n",
    "        R[:,k] = coms[k].logpdf(X)\n",
    "    R = R+np.log(w)\n",
    "    T = logsumexp(R,1)\n",
    "    llh = sum(T)/n \n",
    "    R = np.exp(R-T.reshape(n,1))\n",
    "    return (R, llh) \n",
    "\n",
    "def m_step(X, R, coms):\n",
    "    (n,d) = X.shape\n",
    "    k = R.shape[1]\n",
    "    w = np.mean(R,0)\n",
    "    for j in range(len(coms)):\n",
    "        coms[j].fit(X,R[:,j])\n",
    "    return (w,coms)\n",
    "\n",
    "def emgm(X, k) :\n",
    "    (n,d) = X.shape\n",
    "    tol = 1e-4\n",
    "    epoch = 200\n",
    "    llh = np.full(epoch+1, -np.inf)\n",
    "    label = np.random.randint(k,size=n)\n",
    "    R = np.arange(k).reshape(1,k) == label.reshape(n,1)\n",
    "    R = R.astype(float)\n",
    "    coms = [Gauss(d) for i in range(k)]\n",
    "    for t in range(epoch):\n",
    "        (w,coms) = m_step(X, R, coms)\n",
    "        (R, llh[t+1]) = e_step(X, R, w, coms)\n",
    "        if llh[t+1]-llh[t] < tol : break\n",
    "    label = np.argmax(R,1)\n",
    "    return (label, llh[1:t+1])"
   ]
  },
  {
   "cell_type": "code",
   "execution_count": 10,
   "metadata": {
    "collapsed": false
   },
   "outputs": [
    {
     "data": {
      "image/png": "[encoded data removed]",
      "text/plain": [
       "<matplotlib.figure.Figure at 0x225ea167ef0>"
      ]
     },
     "metadata": {},
     "output_type": "display_data"
    }
   ],
   "source": [
    "n = 1000\n",
    "d = 2\n",
    "k = 3\n",
    "\n",
    "(X,z) = kmeansrnd(n,d,k)\n",
    "label = np.random.randint(k,size=n)\n",
    "(label,llh)=emgm(X,k)\n",
    "plot_class(X,label)"
   ]
  },
  {
   "cell_type": "code",
   "execution_count": 11,
   "metadata": {
    "collapsed": false
   },
   "outputs": [
    {
     "data": {
      "text/plain": [
       "[<matplotlib.lines.Line2D at 0x225eb30d240>]"
      ]
     },
     "execution_count": 11,
     "metadata": {},
     "output_type": "execute_result"
    },
    {
     "data": {
      "image/png": "[encoded data removed]",
      "text/plain": [
       "<matplotlib.figure.Figure at 0x225eb25b978>"
      ]
     },
     "metadata": {},
     "output_type": "display_data"
    }
   ],
   "source": [
    "plt.plot(llh)"
   ]
  },
  {
   "cell_type": "code",
   "execution_count": 12,
   "metadata": {
    "collapsed": false
   },
   "outputs": [
    {
     "data": {
      "text/plain": [
       "array([-5.8226683 , -5.7538127 , -5.56021512, -5.38466392, -4.9611575 ,\n",
       "       -4.49982951, -4.19841868, -4.00417649, -3.70430432, -3.67933697,\n",
       "       -3.6788319 ])"
      ]
     },
     "execution_count": 12,
     "metadata": {},
     "output_type": "execute_result"
    }
   ],
   "source": [
    "llh\n"
   ]
  }
 ],
 "metadata": {
  "anaconda-cloud": {},
  "kernelspec": {
   "display_name": "Python [Root]",
   "language": "python",
   "name": "Python [Root]"
  },
  "language_info": {
   "codemirror_mode": {
    "name": "ipython",
    "version": 3
   },
   "file_extension": ".py",
   "mimetype": "text/x-python",
   "name": "python",
   "nbconvert_exporter": "python",
   "pygments_lexer": "ipython3",
   "version": "3.5.2"
  }
 },
 "nbformat": 4,
 "nbformat_minor": 0
}
